{
 "cells": [
  {
   "cell_type": "code",
   "execution_count": null,
   "metadata": {},
   "outputs": [],
   "source": []
  },
  {
   "cell_type": "markdown",
   "metadata": {},
   "source": [
    "# python基础"
   ]
  },
  {
   "cell_type": "markdown",
   "metadata": {},
   "source": [
    "## 面向对象编程 "
   ]
  },
  {
   "cell_type": "code",
   "execution_count": 21,
   "metadata": {
    "ExecuteTime": {
     "end_time": "2021-02-18T05:01:22.515380Z",
     "start_time": "2021-02-18T05:01:22.507357Z"
    }
   },
   "outputs": [],
   "source": [
    "class Fraction:\n",
    "    def __init__(self, top=None, bottom=None):\n",
    "        self.top = top if top else 0\n",
    "        self.bottom = bottom if bottom else 1\n",
    "    \n",
    "    def __str__(self):\n",
    "        return \"{}/{}\".format(self.top, self.bottom)\n",
    "    \n",
    "    def __repr__(self):\n",
    "        return self.__str__()\n",
    "    \n",
    "    def __add__(self, other):\n",
    "        top = self.top * other.bottom + self.bottom * other.top\n",
    "        bottom = self.bottom * other.bottom\n",
    "        return Fraction(top=top, bottom=bottom)\n",
    "    \n",
    "    def __mul__(self, other):\n",
    "        top = self.top * other.top\n",
    "        bottom = self.bottom * other.bottom\n",
    "        return Fraction(top=top, bottom=bottom)\n",
    "    \n",
    "    def gcd(self):\n",
    "        num_o = max(self.top, self.bottom)\n",
    "        num_t = min(self.top, self.bottom)\n",
    "        num_b = num_o % num_t\n",
    "        while num_b != 0:\n",
    "            num_o = num_t\n",
    "            num_t = num_b\n",
    "            num_b = num_o % num_t\n",
    "        return Fraction(int(self.top/num_t), int(self.bottom/num_t))"
   ]
  },
  {
   "cell_type": "code",
   "execution_count": 23,
   "metadata": {
    "ExecuteTime": {
     "end_time": "2021-02-18T05:01:27.735312Z",
     "start_time": "2021-02-18T05:01:27.729327Z"
    }
   },
   "outputs": [
    {
     "data": {
      "text/plain": [
       "5/6"
      ]
     },
     "execution_count": 23,
     "metadata": {},
     "output_type": "execute_result"
    }
   ],
   "source": [
    "a = Fraction(top=5, bottom=6)\n",
    "a"
   ]
  },
  {
   "cell_type": "code",
   "execution_count": 24,
   "metadata": {
    "ExecuteTime": {
     "end_time": "2021-02-18T05:01:28.694748Z",
     "start_time": "2021-02-18T05:01:28.690716Z"
    }
   },
   "outputs": [
    {
     "data": {
      "text/plain": [
       "7/13"
      ]
     },
     "execution_count": 24,
     "metadata": {},
     "output_type": "execute_result"
    }
   ],
   "source": [
    "b = Fraction(top=7, bottom=13)\n",
    "b"
   ]
  },
  {
   "cell_type": "code",
   "execution_count": 25,
   "metadata": {
    "ExecuteTime": {
     "end_time": "2021-02-18T05:01:29.695049Z",
     "start_time": "2021-02-18T05:01:29.690020Z"
    }
   },
   "outputs": [
    {
     "data": {
      "text/plain": [
       "107/78"
      ]
     },
     "execution_count": 25,
     "metadata": {},
     "output_type": "execute_result"
    }
   ],
   "source": [
    "(a + b).gcd()"
   ]
  },
  {
   "cell_type": "code",
   "execution_count": 27,
   "metadata": {
    "ExecuteTime": {
     "end_time": "2021-02-18T05:01:36.454196Z",
     "start_time": "2021-02-18T05:01:36.450200Z"
    }
   },
   "outputs": [
    {
     "data": {
      "text/plain": [
       "35/78"
      ]
     },
     "execution_count": 27,
     "metadata": {},
     "output_type": "execute_result"
    }
   ],
   "source": [
    "(a * b).gcd()"
   ]
  },
  {
   "cell_type": "code",
   "execution_count": 28,
   "metadata": {
    "ExecuteTime": {
     "end_time": "2021-02-18T05:01:56.761282Z",
     "start_time": "2021-02-18T05:01:56.755298Z"
    }
   },
   "outputs": [
    {
     "data": {
      "text/plain": [
       "3/2"
      ]
     },
     "execution_count": 28,
     "metadata": {},
     "output_type": "execute_result"
    }
   ],
   "source": [
    "Fraction(top=15, bottom=10).gcd()"
   ]
  },
  {
   "cell_type": "markdown",
   "metadata": {},
   "source": [
    "### 继承: 逻辑门与电路"
   ]
  },
  {
   "cell_type": "markdown",
   "metadata": {},
   "source": [
    "#### LogicGate 类  \n",
    "顶部的LogicGate 类代表逻辑门的通用特性: 逻辑门的标签和输出  \n",
    "下面的一层子类将逻辑门分为两种: **一个输入的逻辑门** 和 **两个输入的逻辑门**  \n"
   ]
  },
  {
   "cell_type": "code",
   "execution_count": 30,
   "metadata": {
    "ExecuteTime": {
     "end_time": "2021-02-18T05:13:30.911075Z",
     "start_time": "2021-02-18T05:13:30.905091Z"
    }
   },
   "outputs": [],
   "source": [
    "class LogicGate():\n",
    "    def __init__(self, label):\n",
    "        self.label = label\n",
    "        self.output = None\n",
    "    \n",
    "    def getLabel(self):\n",
    "        return self.label\n",
    "    \n",
    "    def getOutput(self):\n",
    "        self.output = self.performGateLogic()\n",
    "        return self.output\n"
   ]
  },
  {
   "cell_type": "markdown",
   "metadata": {},
   "source": [
    "#### BinaryGate 类"
   ]
  },
  {
   "cell_type": "code",
   "execution_count": 64,
   "metadata": {
    "ExecuteTime": {
     "end_time": "2021-02-18T08:06:25.941645Z",
     "start_time": "2021-02-18T08:06:25.936657Z"
    }
   },
   "outputs": [],
   "source": [
    " class BinaryGate(LogicGate):\n",
    "        def __init__(self, label):\n",
    "            super().__init__(label)\n",
    "            \n",
    "            self.pinA = None\n",
    "            self.pinB = None\n",
    "        \n",
    "        def getPinA(self):\n",
    "            return int(input(\"Enter Pin A for gate \" + self.getLabel() + \"-->\"))\n",
    "        \n",
    "        def getPinB(self):\n",
    "            return int(input(\"Enter Pin B for gate \" + self.getLabel() + \"-->\"))\n",
    "        \n",
    "        def setNextPin(self, source):\n",
    "            if self.pinA is None:\n",
    "                self.pinA = source\n",
    "            elif self.pinB is None:\n",
    "                self.pinB = source\n",
    "            else:\n",
    "                raise RuntimeError(\"Error: No Empty Pins\")"
   ]
  },
  {
   "cell_type": "markdown",
   "metadata": {},
   "source": [
    "#### UnaryGate 类"
   ]
  },
  {
   "cell_type": "code",
   "execution_count": 33,
   "metadata": {
    "ExecuteTime": {
     "end_time": "2021-02-18T05:19:45.645629Z",
     "start_time": "2021-02-18T05:19:45.641598Z"
    },
    "run_control": {
     "marked": false
    }
   },
   "outputs": [],
   "source": [
    "class UnaryGate(LogicGate):\n",
    "    def __init__(self, label):\n",
    "        super().__init__(label)\n",
    "        \n",
    "        self.pin = None\n",
    "    \n",
    "    def getPin(self):\n",
    "        return int(input(\"Enter Pin input for gate \" + self.getLabel() + \"-->\"))\n",
    "    "
   ]
  },
  {
   "cell_type": "markdown",
   "metadata": {},
   "source": [
    "#### AndGate 类"
   ]
  },
  {
   "cell_type": "code",
   "execution_count": 49,
   "metadata": {
    "ExecuteTime": {
     "end_time": "2021-02-18T05:24:41.608172Z",
     "start_time": "2021-02-18T05:24:41.604138Z"
    }
   },
   "outputs": [],
   "source": [
    "class AndGate(BinaryGate):\n",
    "    def __init__(self, label=\"And Gate\"):\n",
    "        super().__init__(label)\n",
    "        \n",
    "    def performGateLogic(self):\n",
    "        self.pinA = self.getPinA()\n",
    "        self.pinB = self.getPinB()\n",
    "        \n",
    "        if bool(self.pinA) and bool(self.pinB):\n",
    "            return 1\n",
    "        else:\n",
    "            return 0"
   ]
  },
  {
   "cell_type": "code",
   "execution_count": 50,
   "metadata": {
    "ExecuteTime": {
     "end_time": "2021-02-18T05:24:44.308859Z",
     "start_time": "2021-02-18T05:24:42.223538Z"
    }
   },
   "outputs": [
    {
     "name": "stdout",
     "output_type": "stream",
     "text": [
      "Enter Pin A for gate G1-->1\n",
      "Enter Pin B for gate G1-->1\n"
     ]
    },
    {
     "data": {
      "text/plain": [
       "1"
      ]
     },
     "execution_count": 50,
     "metadata": {},
     "output_type": "execute_result"
    }
   ],
   "source": [
    "g1 = AndGate(label=\"G1\")\n",
    "g1.getOutput()"
   ]
  },
  {
   "cell_type": "markdown",
   "metadata": {},
   "source": [
    "#### OrGate 类"
   ]
  },
  {
   "cell_type": "code",
   "execution_count": 58,
   "metadata": {
    "ExecuteTime": {
     "end_time": "2021-02-18T07:57:31.989825Z",
     "start_time": "2021-02-18T07:57:31.985253Z"
    }
   },
   "outputs": [],
   "source": [
    "class OrGate(BinaryGate):\n",
    "    def __init__(self, label):\n",
    "        super().__init__(label=label)\n",
    "        \n",
    "    def performGateLogic(self):\n",
    "        self.pinA = self.getPinA()\n",
    "        self.pinB = self.getPinB()\n",
    "        if bool(self.pinA) or bool(self.pinB):\n",
    "            return 1\n",
    "        else:\n",
    "            return 0"
   ]
  },
  {
   "cell_type": "code",
   "execution_count": 59,
   "metadata": {
    "ExecuteTime": {
     "end_time": "2021-02-18T07:57:53.227476Z",
     "start_time": "2021-02-18T07:57:50.001033Z"
    }
   },
   "outputs": [
    {
     "name": "stdout",
     "output_type": "stream",
     "text": [
      "Enter Pin A for gate G2-->1\n",
      "Enter Pin B for gate G2-->0\n"
     ]
    },
    {
     "data": {
      "text/plain": [
       "1"
      ]
     },
     "execution_count": 59,
     "metadata": {},
     "output_type": "execute_result"
    }
   ],
   "source": [
    "g2 = OrGate(\"G2\")\n",
    "g2.getOutput()"
   ]
  },
  {
   "cell_type": "markdown",
   "metadata": {},
   "source": [
    "#### NotGate 类"
   ]
  },
  {
   "cell_type": "code",
   "execution_count": 60,
   "metadata": {
    "ExecuteTime": {
     "end_time": "2021-02-18T07:59:29.492497Z",
     "start_time": "2021-02-18T07:59:29.488508Z"
    }
   },
   "outputs": [],
   "source": [
    "class NotGate(UnaryGate):\n",
    "    def __init__(self, label):\n",
    "        super().__init__(label)\n",
    "        \n",
    "    def performGateLogic(self):\n",
    "        self.pin = self.getPin()\n",
    "        \n",
    "        return 1 - bool(self.pin)"
   ]
  },
  {
   "cell_type": "code",
   "execution_count": 62,
   "metadata": {
    "ExecuteTime": {
     "end_time": "2021-02-18T07:59:56.426080Z",
     "start_time": "2021-02-18T07:59:54.559284Z"
    }
   },
   "outputs": [
    {
     "name": "stdout",
     "output_type": "stream",
     "text": [
      "Enter Pin input for gate G3-->0\n"
     ]
    },
    {
     "data": {
      "text/plain": [
       "1"
      ]
     },
     "execution_count": 62,
     "metadata": {},
     "output_type": "execute_result"
    }
   ],
   "source": [
    "g3 = NotGate(\"G3\")\n",
    "g3.getOutput()"
   ]
  },
  {
   "cell_type": "markdown",
   "metadata": {},
   "source": [
    "### Connector 类--> HAS-A 关系  \n",
    "Connector类并不在逻辑门的**继承**层次结构中. 但是, 它会使用该结构, 从而使每一个连接器的两端都有一个逻辑门.  \n",
    "+ 这种关系即为 HAS-A 关系  \n"
   ]
  },
  {
   "cell_type": "code",
   "execution_count": 63,
   "metadata": {
    "ExecuteTime": {
     "end_time": "2021-02-18T08:04:16.145537Z",
     "start_time": "2021-02-18T08:04:16.140593Z"
    }
   },
   "outputs": [],
   "source": [
    "class Connector():\n",
    "    def __init__(self, fgate, tgate):\n",
    "        self.fromgate = fgate\n",
    "        self.togate = tgate\n",
    "        \n",
    "        tgate.setNextPin(self)\n",
    "    \n",
    "    def getFrom(self):\n",
    "        return self.fromgate\n",
    "    \n",
    "    def getTo(self):\n",
    "        return self.togate"
   ]
  },
  {
   "cell_type": "code",
   "execution_count": null,
   "metadata": {},
   "outputs": [],
   "source": []
  },
  {
   "cell_type": "code",
   "execution_count": null,
   "metadata": {},
   "outputs": [],
   "source": []
  },
  {
   "cell_type": "code",
   "execution_count": null,
   "metadata": {},
   "outputs": [],
   "source": []
  },
  {
   "cell_type": "code",
   "execution_count": null,
   "metadata": {},
   "outputs": [],
   "source": []
  },
  {
   "cell_type": "code",
   "execution_count": null,
   "metadata": {},
   "outputs": [],
   "source": []
  },
  {
   "cell_type": "code",
   "execution_count": null,
   "metadata": {},
   "outputs": [],
   "source": []
  },
  {
   "cell_type": "code",
   "execution_count": null,
   "metadata": {},
   "outputs": [],
   "source": []
  },
  {
   "cell_type": "code",
   "execution_count": null,
   "metadata": {},
   "outputs": [],
   "source": []
  },
  {
   "cell_type": "code",
   "execution_count": null,
   "metadata": {},
   "outputs": [],
   "source": []
  },
  {
   "cell_type": "code",
   "execution_count": null,
   "metadata": {},
   "outputs": [],
   "source": []
  },
  {
   "cell_type": "code",
   "execution_count": null,
   "metadata": {},
   "outputs": [],
   "source": []
  },
  {
   "cell_type": "code",
   "execution_count": null,
   "metadata": {},
   "outputs": [],
   "source": []
  },
  {
   "cell_type": "code",
   "execution_count": null,
   "metadata": {},
   "outputs": [],
   "source": []
  },
  {
   "cell_type": "code",
   "execution_count": null,
   "metadata": {},
   "outputs": [],
   "source": []
  },
  {
   "cell_type": "code",
   "execution_count": null,
   "metadata": {},
   "outputs": [],
   "source": []
  },
  {
   "cell_type": "code",
   "execution_count": null,
   "metadata": {},
   "outputs": [],
   "source": []
  },
  {
   "cell_type": "code",
   "execution_count": null,
   "metadata": {},
   "outputs": [],
   "source": []
  },
  {
   "cell_type": "code",
   "execution_count": null,
   "metadata": {},
   "outputs": [],
   "source": []
  },
  {
   "cell_type": "code",
   "execution_count": null,
   "metadata": {},
   "outputs": [],
   "source": []
  },
  {
   "cell_type": "code",
   "execution_count": null,
   "metadata": {},
   "outputs": [],
   "source": []
  },
  {
   "cell_type": "code",
   "execution_count": null,
   "metadata": {},
   "outputs": [],
   "source": []
  },
  {
   "cell_type": "code",
   "execution_count": null,
   "metadata": {},
   "outputs": [],
   "source": []
  },
  {
   "cell_type": "code",
   "execution_count": null,
   "metadata": {},
   "outputs": [],
   "source": []
  },
  {
   "cell_type": "code",
   "execution_count": null,
   "metadata": {},
   "outputs": [],
   "source": []
  },
  {
   "cell_type": "code",
   "execution_count": null,
   "metadata": {},
   "outputs": [],
   "source": []
  },
  {
   "cell_type": "code",
   "execution_count": null,
   "metadata": {},
   "outputs": [],
   "source": []
  },
  {
   "cell_type": "code",
   "execution_count": null,
   "metadata": {},
   "outputs": [],
   "source": []
  },
  {
   "cell_type": "code",
   "execution_count": null,
   "metadata": {},
   "outputs": [],
   "source": []
  }
 ],
 "metadata": {
  "kernelspec": {
   "display_name": "Python 3",
   "language": "python",
   "name": "python3"
  },
  "language_info": {
   "codemirror_mode": {
    "name": "ipython",
    "version": 3
   },
   "file_extension": ".py",
   "mimetype": "text/x-python",
   "name": "python",
   "nbconvert_exporter": "python",
   "pygments_lexer": "ipython3",
   "version": "3.7.4"
  },
  "latex_envs": {
   "LaTeX_envs_menu_present": true,
   "autoclose": false,
   "autocomplete": true,
   "bibliofile": "biblio.bib",
   "cite_by": "apalike",
   "current_citInitial": 1,
   "eqLabelWithNumbers": true,
   "eqNumInitial": 1,
   "hotkeys": {
    "equation": "Ctrl-E",
    "itemize": "Ctrl-I"
   },
   "labels_anchors": false,
   "latex_user_defs": false,
   "report_style_numbering": false,
   "user_envs_cfg": false
  },
  "toc": {
   "base_numbering": 1,
   "nav_menu": {},
   "number_sections": true,
   "sideBar": true,
   "skip_h1_title": false,
   "title_cell": "Table of Contents",
   "title_sidebar": "Contents",
   "toc_cell": false,
   "toc_position": {},
   "toc_section_display": true,
   "toc_window_display": false
  },
  "varInspector": {
   "cols": {
    "lenName": 16,
    "lenType": 16,
    "lenVar": 40
   },
   "kernels_config": {
    "python": {
     "delete_cmd_postfix": "",
     "delete_cmd_prefix": "del ",
     "library": "var_list.py",
     "varRefreshCmd": "print(var_dic_list())"
    },
    "r": {
     "delete_cmd_postfix": ") ",
     "delete_cmd_prefix": "rm(",
     "library": "var_list.r",
     "varRefreshCmd": "cat(var_dic_list()) "
    }
   },
   "types_to_exclude": [
    "module",
    "function",
    "builtin_function_or_method",
    "instance",
    "_Feature"
   ],
   "window_display": false
  }
 },
 "nbformat": 4,
 "nbformat_minor": 4
}
